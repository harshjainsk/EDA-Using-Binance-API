{
 "cells": [
  {
   "cell_type": "markdown",
   "id": "a038fb3c",
   "metadata": {},
   "source": [
    "# 1. Setup "
   ]
  },
  {
   "cell_type": "markdown",
   "id": "6c2d85dd",
   "metadata": {},
   "source": [
    "# 2. Authenticate "
   ]
  },
  {
   "cell_type": "markdown",
   "id": "58d28caf",
   "metadata": {},
   "source": [
    "# 3. Get Tickets"
   ]
  },
  {
   "cell_type": "markdown",
   "id": "1161609f",
   "metadata": {},
   "source": [
    "# 4. Get Depth"
   ]
  },
  {
   "cell_type": "markdown",
   "id": "70dcee34",
   "metadata": {},
   "source": [
    "# 5. Get Historical Data"
   ]
  },
  {
   "cell_type": "markdown",
   "id": "d6ad245f",
   "metadata": {},
   "source": [
    "# 6. Pre-process Historical Data"
   ]
  },
  {
   "cell_type": "markdown",
   "id": "61cd7af1",
   "metadata": {},
   "source": [
    "# 7. Vizualisation"
   ]
  },
  {
   "cell_type": "code",
   "execution_count": null,
   "id": "2c9e2734",
   "metadata": {},
   "outputs": [],
   "source": []
  }
 ],
 "metadata": {
  "kernelspec": {
   "display_name": "EDA-Using-Bianace-API-venv",
   "language": "python",
   "name": "eda-using-bianace-api-venv"
  },
  "language_info": {
   "codemirror_mode": {
    "name": "ipython",
    "version": 3
   },
   "file_extension": ".py",
   "mimetype": "text/x-python",
   "name": "python",
   "nbconvert_exporter": "python",
   "pygments_lexer": "ipython3",
   "version": "3.9.5"
  }
 },
 "nbformat": 4,
 "nbformat_minor": 5
}
